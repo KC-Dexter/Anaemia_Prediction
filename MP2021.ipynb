{
  "nbformat": 4,
  "nbformat_minor": 0,
  "metadata": {
    "colab": {
      "name": "MP2021.ipynb",
      "provenance": [],
      "collapsed_sections": []
    },
    "kernelspec": {
      "name": "python3",
      "display_name": "Python 3"
    },
    "language_info": {
      "name": "python"
    }
  },
  "cells": [
    {
      "cell_type": "code",
      "execution_count": null,
      "metadata": {
        "id": "4QezjRsOVAwC"
      },
      "outputs": [],
      "source": [
        "#Description: This program classfies patients as having Anaemic Disease or not using Artificial Neural Networks (ANN)"
      ]
    },
    {
      "cell_type": "code",
      "source": [
        "#Importing Libraries\n",
        "import glob\n",
        "from keras.models import Sequential, load_model\n",
        "import numpy as np\n",
        "import pandas as pd\n",
        "from keras.layers import Dense\n",
        "from sklearn.model_selection import train_test_split\n",
        "from sklearn.preprocessing import LabelEncoder, MinMaxScaler\n",
        "import matplotlib.pyplot as plt\n",
        "import keras as k\n",
        "import seaborn as sns                     # data visualization library based on matplotlib\n",
        "import sklearn                            # for random forests, and k-neighbours etc \n",
        "\n",
        "sns.set(rc={'figure.figsize':(12,10)})"
      ],
      "metadata": {
        "id": "8xOYwqCGVez2"
      },
      "execution_count": null,
      "outputs": []
    },
    {
      "cell_type": "code",
      "source": [
        "#Load the data\n",
        "from google.colab import files\n",
        "uploaded = files.upload()\n",
        "\n",
        "df = pd.read_csv('Anaemia1.csv')\n",
        "\n",
        "#Print the first 10 rows\n",
        "df.head(10)"
      ],
      "metadata": {
        "id": "hdDzA_yoWQFm"
      },
      "execution_count": null,
      "outputs": []
    },
    {
      "cell_type": "code",
      "source": [
        "df.info()"
      ],
      "metadata": {
        "id": "xkuir4fWU4Cv"
      },
      "execution_count": null,
      "outputs": []
    },
    {
      "cell_type": "code",
      "source": [
        "#Get the shape of the data (the number of rows & cols)\n",
        "df.shape"
      ],
      "metadata": {
        "id": "RrDjW0kk2wh4"
      },
      "execution_count": null,
      "outputs": []
    },
    {
      "cell_type": "code",
      "source": [
        "df.describe()"
      ],
      "metadata": {
        "id": "a-LRT_PNVggY"
      },
      "execution_count": null,
      "outputs": []
    },
    {
      "cell_type": "code",
      "source": [
        "df.isnull().sum()"
      ],
      "metadata": {
        "id": "tO8C4JHWVjx9"
      },
      "execution_count": null,
      "outputs": []
    },
    {
      "cell_type": "code",
      "source": [
        "#Create a list of column names to keep\n",
        "column_to_retain = ['Age', 'Sex', 'Haemoglobin', 'MCH', 'MCHC', 'MCV', 'RBC', 'Platlets', 'IDENTIFICATION']\n",
        "\n",
        "#Drop the columns that are not in columns_to_retain\n",
        "df = df.drop([col for col in df.columns if not col in column_to_retain], axis=1)\n",
        "\n",
        "#Drop the rows with na or missing values\n",
        "df = df.dropna(axis=0)"
      ],
      "metadata": {
        "id": "G-4E1yuy3o37"
      },
      "execution_count": null,
      "outputs": []
    },
    {
      "cell_type": "code",
      "source": [
        "#Transform the non-numeric data in the columns\n",
        "for column in df.columns:\n",
        "  if df[column].dtype == np.number:\n",
        "    continue\n",
        "  df[column] = LabelEncoder().fit_transform( df[column])"
      ],
      "metadata": {
        "id": "gYzdKQYxXYh2"
      },
      "execution_count": null,
      "outputs": []
    },
    {
      "cell_type": "code",
      "source": [
        "#Print the first 5 rows of the new cleaned dataset\n",
        "df.head()"
      ],
      "metadata": {
        "id": "-JwTvTVs6t7y"
      },
      "execution_count": null,
      "outputs": []
    },
    {
      "cell_type": "code",
      "source": [
        "df['IDENTIFICATION'].value_counts()"
      ],
      "metadata": {
        "id": "aURW4cpxVs8I"
      },
      "execution_count": null,
      "outputs": []
    },
    {
      "cell_type": "code",
      "source": [
        "#visualize the count\n",
        "sns.countplot(df['IDENTIFICATION'])"
      ],
      "metadata": {
        "id": "rwrrsyF4Vzlt"
      },
      "execution_count": null,
      "outputs": []
    },
    {
      "cell_type": "code",
      "source": [
        "#visualize the data\n",
        "sns.countplot(x='Haemoglobin', hue='IDENTIFICATION', data=df, palette='bright',edgecolor= sns.color_palette('dark',n_colors=1))"
      ],
      "metadata": {
        "id": "A6wtd19rWIWa"
      },
      "execution_count": null,
      "outputs": []
    },
    {
      "cell_type": "code",
      "source": [
        "df.hist(figsize=(20,16))\n",
        "plt.show()"
      ],
      "metadata": {
        "id": "mNX9PkQqWOdk"
      },
      "execution_count": null,
      "outputs": []
    },
    {
      "cell_type": "code",
      "source": [
        "sns.pairplot(df, hue = \"IDENTIFICATION\", height = 5, aspect = 1);"
      ],
      "metadata": {
        "id": "WJKQq9HZWSWp"
      },
      "execution_count": null,
      "outputs": []
    },
    {
      "cell_type": "code",
      "source": [
        "#get the correlation of the columns\n",
        "df.corr()"
      ],
      "metadata": {
        "id": "OpjZAnGxWZ45"
      },
      "execution_count": null,
      "outputs": []
    },
    {
      "cell_type": "code",
      "source": [
        "#visualize the data\n",
        "import matplotlib.pyplot as plt\n",
        "plt.figure(figsize=(15,15))\n",
        "sns.heatmap(df.corr(),annot=True,fmt='.0%')"
      ],
      "metadata": {
        "id": "mNvmIrnXWfaR"
      },
      "execution_count": null,
      "outputs": []
    },
    {
      "cell_type": "code",
      "source": [
        "#Split the data into independent (X) dataset (the features) and dependent (Y) dataset (the target)\n",
        "X = df.drop(['IDENTIFICATION'], axis=1)\n",
        "Y = df['IDENTIFICATION']"
      ],
      "metadata": {
        "id": "PhV7RjuP6-Zb"
      },
      "execution_count": null,
      "outputs": []
    },
    {
      "cell_type": "code",
      "source": [
        "#Feature Scaling \n",
        "#Min-Max scaler method scales the dataset so that all the input features lie between 0 and 1\n",
        "X_scaler = MinMaxScaler()\n",
        "X_scaler.fit(X)\n",
        "column_names = X.columns\n",
        "X[column_names] = X_scaler.transform(X)"
      ],
      "metadata": {
        "id": "UeKg58ZZ7xBA"
      },
      "execution_count": null,
      "outputs": []
    },
    {
      "cell_type": "code",
      "source": [
        "#Split the data into 80% training and 20% testing &shuffle\n",
        "X_train, X_test, Y_train, Y_test = train_test_split(X, Y, test_size = 0.2, shuffle =True)"
      ],
      "metadata": {
        "id": "8KVjtqE58qXx"
      },
      "execution_count": null,
      "outputs": []
    },
    {
      "cell_type": "code",
      "source": [
        "len(X_train)"
      ],
      "metadata": {
        "id": "lunk5DNWWtX5"
      },
      "execution_count": null,
      "outputs": []
    },
    {
      "cell_type": "code",
      "source": [
        "len(X_test)"
      ],
      "metadata": {
        "id": "F_-jZmk9WwKR"
      },
      "execution_count": null,
      "outputs": []
    },
    {
      "cell_type": "code",
      "source": [
        "from sklearn.model_selection import GridSearchCV\n",
        "from sklearn.tree import DecisionTreeClassifier\n",
        "from sklearn.ensemble import RandomForestClassifier\n",
        "from sklearn.neighbors import KNeighborsClassifier\n",
        "from sklearn.linear_model import LogisticRegression\n",
        "from sklearn.svm import SVC\n",
        "from sklearn.ensemble import AdaBoostClassifier"
      ],
      "metadata": {
        "id": "qe29WQUmW7UP"
      },
      "execution_count": null,
      "outputs": []
    },
    {
      "cell_type": "code",
      "source": [
        "#create param\n",
        "model_param = {\n",
        "    'DecisionTreeClassifier':{\n",
        "        'model':DecisionTreeClassifier(),\n",
        "        'param':{\n",
        "            'criterion': ['gini','entropy']\n",
        "        }\n",
        "    },\n",
        "    'RandomForestClassifier':{\n",
        "        'model':RandomForestClassifier(),\n",
        "        'param':{\n",
        "            'n_estimators': [20,50,80,120,150]\n",
        "        }\n",
        "    },\n",
        "    'KNeighborsClassifier':{\n",
        "        'model':KNeighborsClassifier(),\n",
        "        'param':{\n",
        "            'n_neighbors': [5,10,15,20,25]\n",
        "        }\n",
        "    },\n",
        "    'LogisticRegression':{\n",
        "        'model':LogisticRegression(),\n",
        "        'param':{\n",
        "            'penalty':['l2']\n",
        "        }\n",
        "    },\n",
        "    'SVC':{\n",
        "        'model':SVC(),\n",
        "        'param':{\n",
        "            'kernel': ['rbf','linear','sigmoid']\n",
        "        }\n",
        "    },\n",
        "    'AdaBoostClassifier':{\n",
        "        'model':AdaBoostClassifier(),\n",
        "        'param':{\n",
        "            'learning_rate': [1,2,3,4,5]\n",
        "        }\n",
        "    },\n",
        "\n",
        "}"
      ],
      "metadata": {
        "id": "HR9HETD7XDtx"
      },
      "execution_count": null,
      "outputs": []
    },
    {
      "cell_type": "code",
      "source": [
        "scores = []\n",
        "for model_name, mp in model_param.items():\n",
        "  model_selection = GridSearchCV(estimator=mp['model'],param_grid=mp['param'],cv=5,return_train_score=False)\n",
        "  model_selection.fit(X,Y)\n",
        "  scores.append({\n",
        "      'model': model_name,\n",
        "      'best_score': model_selection.best_score_,\n",
        "      'best_params': model_selection.best_params_\n",
        "  })"
      ],
      "metadata": {
        "id": "BpPc4WfdXEtE"
      },
      "execution_count": null,
      "outputs": []
    },
    {
      "cell_type": "code",
      "source": [
        "df_model_score = pd.DataFrame(scores, columns=['model','best_score','best_params'])\n",
        "df_model_score"
      ],
      "metadata": {
        "id": "B3h8QLKhXHnk"
      },
      "execution_count": null,
      "outputs": []
    },
    {
      "cell_type": "code",
      "source": [
        "colors = [\"yellow\",\"blue\",\"brown\",\"magenta\",\"red\", \"purple\"]\n",
        "fig = plt.figure(figsize=(15,15))\n",
        "sns.barplot(x='model',y='best_score',data=df_model_score, palette= colors)\n",
        "plt.title('Model Comparison');"
      ],
      "metadata": {
        "id": "2prDSI2mXPTd"
      },
      "execution_count": null,
      "outputs": []
    },
    {
      "cell_type": "code",
      "source": [
        "model_rfc = RandomForestClassifier(n_estimators=120)"
      ],
      "metadata": {
        "id": "zxfHpUPYXfJs"
      },
      "execution_count": null,
      "outputs": []
    },
    {
      "cell_type": "code",
      "source": [
        "model_rfc.fit(X_train,Y_train)"
      ],
      "metadata": {
        "id": "iRSUMdKxXiXw"
      },
      "execution_count": null,
      "outputs": []
    },
    {
      "cell_type": "code",
      "source": [
        "model_rfc.score(X_test,Y_test)"
      ],
      "metadata": {
        "id": "mEOSSwGRXlR3"
      },
      "execution_count": null,
      "outputs": []
    },
    {
      "cell_type": "code",
      "source": [
        "#Confusion Matrix\n",
        "from sklearn.metrics import confusion_matrix\n",
        "cm = confusion_matrix(Y_test,model_rfc.predict(X_test))\n",
        "cm"
      ],
      "metadata": {
        "id": "IcD9yIMbXoAJ"
      },
      "execution_count": null,
      "outputs": []
    },
    {
      "cell_type": "code",
      "source": [
        "sns.heatmap(cm, annot=True)\n",
        "plt.xlabel('Predicted')\n",
        "plt.ylabel('True value')\n",
        "plt.show()"
      ],
      "metadata": {
        "id": "d8LGzkx0Xque"
      },
      "execution_count": null,
      "outputs": []
    },
    {
      "cell_type": "code",
      "source": [
        "#Build the model\n",
        "model = Sequential()\n",
        "model.add( Dense(256, input_dim = len(X.columns), kernel_initializer= k.initializers.random_normal(seed=13), activation='relu'))\n",
        "model.add( Dense(1, activation = 'hard_sigmoid'))"
      ],
      "metadata": {
        "id": "Oid8UqSN9-me"
      },
      "execution_count": null,
      "outputs": []
    },
    {
      "cell_type": "code",
      "source": [
        "#Compile the model\n",
        "model.compile(loss='binary_crossentropy', optimizer='adam', metrics=['accuracy'])"
      ],
      "metadata": {
        "id": "B_-tZMn4ADss"
      },
      "execution_count": null,
      "outputs": []
    },
    {
      "cell_type": "code",
      "source": [
        "#Train the model\n",
        "history = model.fit(X_train, Y_train, epochs = 100, batch_size = X_train.shape[0])"
      ],
      "metadata": {
        "id": "mVLjzPFcBQD8"
      },
      "execution_count": null,
      "outputs": []
    },
    {
      "cell_type": "code",
      "source": [
        "#Save the model\n",
        "model.save('ana.model')"
      ],
      "metadata": {
        "id": "pCjgjI2zCEmB"
      },
      "execution_count": null,
      "outputs": []
    },
    {
      "cell_type": "code",
      "source": [
        "#Visualize the models loss and accuracy \n",
        "plt.plot(history.history['accuracy'])\n",
        "plt.plot(history.history['loss'])\n",
        "plt.title('model accuracy & loss')\n",
        "plt.ylabel('accuracy and loss')\n",
        "plt.xlabel('epoch')"
      ],
      "metadata": {
        "id": "c3ARaQJwCMkG"
      },
      "execution_count": null,
      "outputs": []
    },
    {
      "cell_type": "code",
      "source": [
        "max(history.history['accuracy'])"
      ],
      "metadata": {
        "id": "H57CV322einw"
      },
      "execution_count": null,
      "outputs": []
    },
    {
      "cell_type": "code",
      "source": [
        "test_y_predictions = model.predict(X_test)\n",
        "test_y_predictions"
      ],
      "metadata": {
        "id": "nk2XtzGjjyKd"
      },
      "execution_count": null,
      "outputs": []
    },
    {
      "cell_type": "code",
      "source": [
        "#Get the shape of the training and testing dataset\n",
        "print('shape of training data:', X_train.shape)\n",
        "print('shape of test data:', X_test.shape)"
      ],
      "metadata": {
        "id": "84xCxrwJCynW"
      },
      "execution_count": null,
      "outputs": []
    },
    {
      "cell_type": "code",
      "source": [
        "#Show the actual and predicted values\n",
        "pred = model.predict(X_test)\n",
        "pred = [1 if Y>=0.5 else 0 for Y in pred]\n",
        "pred\n",
        "\n",
        "print('Original : {0}'.format(\", \".join(str(x) for x in Y_test)))\n",
        "print('Predicted : {0}'.format(\", \".join(str(x) for x in pred)))"
      ],
      "metadata": {
        "id": "lo3Am7GJDEFV"
      },
      "execution_count": null,
      "outputs": []
    },
    {
      "cell_type": "code",
      "source": [
        "#Show the actual values\n",
        "Y_test"
      ],
      "metadata": {
        "id": "3e8G5N_YDaOh"
      },
      "execution_count": null,
      "outputs": []
    }
  ]
}